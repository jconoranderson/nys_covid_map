{
 "cells": [
  {
   "cell_type": "code",
   "execution_count": 62,
   "metadata": {},
   "outputs": [],
   "source": [
    "import numpy as np\n",
    "import pandas as pd\n",
    "from bokeh.io import output_notebook, show, output_file\n",
    "from bokeh.plotting import figure, ColumnDataSource\n",
    "from bokeh.tile_providers import get_provider, Vendors\n",
    "from bokeh.palettes import Reds\n",
    "from bokeh.transform import linear_cmap,factor_cmap\n",
    "from bokeh.layouts import row, column\n",
    "from bokeh.models import GeoJSONDataSource, LinearColorMapper, ColorBar, NumeralTickFormatter"
   ]
  },
  {
   "cell_type": "markdown",
   "metadata": {},
   "source": [
    "##### 1.2 - Import CSV file to pandas DataFrame"
   ]
  },
  {
   "cell_type": "code",
   "execution_count": 63,
   "metadata": {},
   "outputs": [
    {
     "output_type": "display_data",
     "data": {
      "text/plain": "             County  New Positives  All Positives  New Tests  All Tests  \\\n3        Broome, NY             68           6306       2076     243869   \n8      Chenango, NY             34            815        339      49176   \n12     Delaware, NY             11            488        215      39954   \n35       Orange, NY            223          19146       2725     327078   \n38       Otsego, NY             19            840        540      54143   \n43     Rockland, NY            175          23680       2874     370457   \n52     Sullivan, NY             31           2407        487      54125   \n55       Ulster, NY             73           4176       1792     175550   \n59  Westchester, NY            611          57606      10385    1218615   \n\n     Positive                              co-ordinates   latitude  longitude  \\\n3    3.275530   (42.52092361450195, -74.30384826660156)  42.161977 -75.830283   \n8   10.029499    (42.1686897277832, -75.87785339355469)  42.478024 -75.602241   \n12   5.116279   (41.76803207397461, -75.05734252929688)  42.193987 -74.966728   \n35   8.183486  (42.305580139160156, -77.04928588867188)  41.402410 -74.306252   \n38   3.518519   (42.70102310180664, -74.92680358886719)  42.629776 -75.028841   \n43   6.089074    (41.94535827636719, -74.9128189086914)  41.154628 -74.024662   \n52   6.365503  (43.054195404052734, -75.84769439697266)  41.719993 -74.771577   \n55   4.073661  (41.956634521484375, -73.96853637695312)  41.947212 -74.265458   \n59   5.883486  (40.840030670166016, -73.84453582763672)  41.152686 -73.745753   \n\n                                        geometry  \n3   POINT (-74.30384826660156 42.52092361450195)  \n8    POINT (-75.87785339355469 42.1686897277832)  \n12  POINT (-75.05734252929688 41.76803207397461)  \n35  POINT (-77.04928588867188 42.30558013916016)  \n38  POINT (-74.92680358886719 42.70102310180664)  \n43  POINT (-74.91281890869141 41.94535827636719)  \n52  POINT (-75.84769439697266 43.05419540405273)  \n55  POINT (-73.96853637695312 41.95663452148438)  \n59  POINT (-73.84453582763672 40.84003067016602)  ",
      "text/html": "<div>\n<style scoped>\n    .dataframe tbody tr th:only-of-type {\n        vertical-align: middle;\n    }\n\n    .dataframe tbody tr th {\n        vertical-align: top;\n    }\n\n    .dataframe thead th {\n        text-align: right;\n    }\n</style>\n<table border=\"1\" class=\"dataframe\">\n  <thead>\n    <tr style=\"text-align: right;\">\n      <th></th>\n      <th>County</th>\n      <th>New Positives</th>\n      <th>All Positives</th>\n      <th>New Tests</th>\n      <th>All Tests</th>\n      <th>Positive</th>\n      <th>co-ordinates</th>\n      <th>latitude</th>\n      <th>longitude</th>\n      <th>geometry</th>\n    </tr>\n  </thead>\n  <tbody>\n    <tr>\n      <th>3</th>\n      <td>Broome, NY</td>\n      <td>68</td>\n      <td>6306</td>\n      <td>2076</td>\n      <td>243869</td>\n      <td>3.275530</td>\n      <td>(42.52092361450195, -74.30384826660156)</td>\n      <td>42.161977</td>\n      <td>-75.830283</td>\n      <td>POINT (-74.30384826660156 42.52092361450195)</td>\n    </tr>\n    <tr>\n      <th>8</th>\n      <td>Chenango, NY</td>\n      <td>34</td>\n      <td>815</td>\n      <td>339</td>\n      <td>49176</td>\n      <td>10.029499</td>\n      <td>(42.1686897277832, -75.87785339355469)</td>\n      <td>42.478024</td>\n      <td>-75.602241</td>\n      <td>POINT (-75.87785339355469 42.1686897277832)</td>\n    </tr>\n    <tr>\n      <th>12</th>\n      <td>Delaware, NY</td>\n      <td>11</td>\n      <td>488</td>\n      <td>215</td>\n      <td>39954</td>\n      <td>5.116279</td>\n      <td>(41.76803207397461, -75.05734252929688)</td>\n      <td>42.193987</td>\n      <td>-74.966728</td>\n      <td>POINT (-75.05734252929688 41.76803207397461)</td>\n    </tr>\n    <tr>\n      <th>35</th>\n      <td>Orange, NY</td>\n      <td>223</td>\n      <td>19146</td>\n      <td>2725</td>\n      <td>327078</td>\n      <td>8.183486</td>\n      <td>(42.305580139160156, -77.04928588867188)</td>\n      <td>41.402410</td>\n      <td>-74.306252</td>\n      <td>POINT (-77.04928588867188 42.30558013916016)</td>\n    </tr>\n    <tr>\n      <th>38</th>\n      <td>Otsego, NY</td>\n      <td>19</td>\n      <td>840</td>\n      <td>540</td>\n      <td>54143</td>\n      <td>3.518519</td>\n      <td>(42.70102310180664, -74.92680358886719)</td>\n      <td>42.629776</td>\n      <td>-75.028841</td>\n      <td>POINT (-74.92680358886719 42.70102310180664)</td>\n    </tr>\n    <tr>\n      <th>43</th>\n      <td>Rockland, NY</td>\n      <td>175</td>\n      <td>23680</td>\n      <td>2874</td>\n      <td>370457</td>\n      <td>6.089074</td>\n      <td>(41.94535827636719, -74.9128189086914)</td>\n      <td>41.154628</td>\n      <td>-74.024662</td>\n      <td>POINT (-74.91281890869141 41.94535827636719)</td>\n    </tr>\n    <tr>\n      <th>52</th>\n      <td>Sullivan, NY</td>\n      <td>31</td>\n      <td>2407</td>\n      <td>487</td>\n      <td>54125</td>\n      <td>6.365503</td>\n      <td>(43.054195404052734, -75.84769439697266)</td>\n      <td>41.719993</td>\n      <td>-74.771577</td>\n      <td>POINT (-75.84769439697266 43.05419540405273)</td>\n    </tr>\n    <tr>\n      <th>55</th>\n      <td>Ulster, NY</td>\n      <td>73</td>\n      <td>4176</td>\n      <td>1792</td>\n      <td>175550</td>\n      <td>4.073661</td>\n      <td>(41.956634521484375, -73.96853637695312)</td>\n      <td>41.947212</td>\n      <td>-74.265458</td>\n      <td>POINT (-73.96853637695312 41.95663452148438)</td>\n    </tr>\n    <tr>\n      <th>59</th>\n      <td>Westchester, NY</td>\n      <td>611</td>\n      <td>57606</td>\n      <td>10385</td>\n      <td>1218615</td>\n      <td>5.883486</td>\n      <td>(40.840030670166016, -73.84453582763672)</td>\n      <td>41.152686</td>\n      <td>-73.745753</td>\n      <td>POINT (-73.84453582763672 40.84003067016602)</td>\n    </tr>\n  </tbody>\n</table>\n</div>"
     },
     "metadata": {}
    }
   ],
   "source": [
    "df = pd.read_csv('coord_data.csv')\n",
    "df = df[df['County'].isin([\"Delaware, NY\",\"Sullivan, NY\", \"Ulster, NY\", \"Orange, NY\", \"Rockland, NY\", \"Broome, NY\", \"Chenango, NY\", \"Otsego, NY\", ])]\n",
    "\n",
    "display(df.head())"
   ]
  },
  {
   "cell_type": "code",
   "execution_count": 64,
   "metadata": {
    "scrolled": true
   },
   "outputs": [
    {
     "output_type": "stream",
     "name": "stdout",
     "text": [
      "-8441388.523665678 5185273.823934164\n-8416002.937554501 5232856.240408601\n-8345257.998529794 5190082.118944368\n-8271734.157660564 5071879.412357982\n-8352172.374929487 5255788.717128242\n-8240387.63545639 5035176.022435297\n-8323533.866318097 5119127.570423786\n-8267192.990353145 5153075.3944386905\n-8209339.627598729 5034888.996211602\n"
     ]
    }
   ],
   "source": [
    "# Define function to switch from lat/long to mercator coordinates\n",
    "def x_coord(x, y):\n",
    "    \n",
    "    lat = x\n",
    "    lon = y\n",
    "    \n",
    "    r_major = 6378137.000\n",
    "    x = r_major * np.radians(lon)\n",
    "    scale = x/lon\n",
    "    y = 180.0/np.pi * np.log(np.tan(np.pi/4.0 + \n",
    "        lat * (np.pi/180.0)/2.0)) * scale\n",
    "\n",
    "    print(x,y)\n",
    "    return (x, y)\n",
    "\n",
    "# Define coord as tuple (lat,long)\n",
    "df['coordinates'] = list(zip(df['latitude'], df['longitude']))\n",
    "\n",
    "\n",
    "# Obtain list of mercator coordinates\n",
    "mercators = [x_coord(x, y) for x, y in df['coordinates'] ]\n"
   ]
  },
  {
   "cell_type": "markdown",
   "metadata": {},
   "source": [
    "##### 1.4 - Add Mercator Coordinates to DataFrame\n",
    "\n",
    "Now we will add those coordinates to our DataFrame."
   ]
  },
  {
   "cell_type": "code",
   "execution_count": 65,
   "metadata": {},
   "outputs": [
    {
     "output_type": "execute_result",
     "data": {
      "text/plain": [
       "             County  New Positives  All Positives  New Tests  All Tests  \\\n",
       "3        Broome, NY             68           6306       2076     243869   \n",
       "8      Chenango, NY             34            815        339      49176   \n",
       "12     Delaware, NY             11            488        215      39954   \n",
       "35       Orange, NY            223          19146       2725     327078   \n",
       "38       Otsego, NY             19            840        540      54143   \n",
       "43     Rockland, NY            175          23680       2874     370457   \n",
       "52     Sullivan, NY             31           2407        487      54125   \n",
       "55       Ulster, NY             73           4176       1792     175550   \n",
       "59  Westchester, NY            611          57606      10385    1218615   \n",
       "\n",
       "     Positive                              co-ordinates   latitude  longitude  \\\n",
       "3    3.275530   (42.52092361450195, -74.30384826660156)  42.161977 -75.830283   \n",
       "8   10.029499    (42.1686897277832, -75.87785339355469)  42.478024 -75.602241   \n",
       "12   5.116279   (41.76803207397461, -75.05734252929688)  42.193987 -74.966728   \n",
       "35   8.183486  (42.305580139160156, -77.04928588867188)  41.402410 -74.306252   \n",
       "38   3.518519   (42.70102310180664, -74.92680358886719)  42.629776 -75.028841   \n",
       "43   6.089074    (41.94535827636719, -74.9128189086914)  41.154628 -74.024662   \n",
       "52   6.365503  (43.054195404052734, -75.84769439697266)  41.719993 -74.771577   \n",
       "55   4.073661  (41.956634521484375, -73.96853637695312)  41.947212 -74.265458   \n",
       "59   5.883486  (40.840030670166016, -73.84453582763672)  41.152686 -73.745753   \n",
       "\n",
       "                                 coordinates  \\\n",
       "3                  (42.1619773, -75.8302833)   \n",
       "8          (42.478023799999995, -75.6022407)   \n",
       "12                 (42.1939865, -74.9667281)   \n",
       "35                 (41.4024096, -74.3062522)   \n",
       "38                  (42.6297762, -75.028841)   \n",
       "43          (41.1546276, -74.02466159999999)   \n",
       "52   (41.71999279999999, -74.77157690000001)   \n",
       "55          (41.9472124, -74.26545820000001)   \n",
       "59  (41.152686200000005, -73.74575259999999)   \n",
       "\n",
       "                                    mercator    mercator_x    mercator_y  \n",
       "3    (-8441388.523665678, 5185273.823934164) -8.441389e+06  5.185274e+06  \n",
       "8    (-8416002.937554501, 5232856.240408601) -8.416003e+06  5.232856e+06  \n",
       "12   (-8345257.998529794, 5190082.118944368) -8.345258e+06  5.190082e+06  \n",
       "35   (-8271734.157660564, 5071879.412357982) -8.271734e+06  5.071879e+06  \n",
       "38   (-8352172.374929487, 5255788.717128242) -8.352172e+06  5.255789e+06  \n",
       "43    (-8240387.63545639, 5035176.022435297) -8.240388e+06  5.035176e+06  \n",
       "52   (-8323533.866318097, 5119127.570423786) -8.323534e+06  5.119128e+06  \n",
       "55  (-8267192.990353145, 5153075.3944386905) -8.267193e+06  5.153075e+06  \n",
       "59   (-8209339.627598729, 5034888.996211602) -8.209340e+06  5.034889e+06  "
      ],
      "text/html": "<div>\n<style scoped>\n    .dataframe tbody tr th:only-of-type {\n        vertical-align: middle;\n    }\n\n    .dataframe tbody tr th {\n        vertical-align: top;\n    }\n\n    .dataframe thead th {\n        text-align: right;\n    }\n</style>\n<table border=\"1\" class=\"dataframe\">\n  <thead>\n    <tr style=\"text-align: right;\">\n      <th></th>\n      <th>County</th>\n      <th>New Positives</th>\n      <th>All Positives</th>\n      <th>New Tests</th>\n      <th>All Tests</th>\n      <th>Positive</th>\n      <th>co-ordinates</th>\n      <th>latitude</th>\n      <th>longitude</th>\n      <th>coordinates</th>\n      <th>mercator</th>\n      <th>mercator_x</th>\n      <th>mercator_y</th>\n    </tr>\n  </thead>\n  <tbody>\n    <tr>\n      <th>3</th>\n      <td>Broome, NY</td>\n      <td>68</td>\n      <td>6306</td>\n      <td>2076</td>\n      <td>243869</td>\n      <td>3.275530</td>\n      <td>(42.52092361450195, -74.30384826660156)</td>\n      <td>42.161977</td>\n      <td>-75.830283</td>\n      <td>(42.1619773, -75.8302833)</td>\n      <td>(-8441388.523665678, 5185273.823934164)</td>\n      <td>-8.441389e+06</td>\n      <td>5.185274e+06</td>\n    </tr>\n    <tr>\n      <th>8</th>\n      <td>Chenango, NY</td>\n      <td>34</td>\n      <td>815</td>\n      <td>339</td>\n      <td>49176</td>\n      <td>10.029499</td>\n      <td>(42.1686897277832, -75.87785339355469)</td>\n      <td>42.478024</td>\n      <td>-75.602241</td>\n      <td>(42.478023799999995, -75.6022407)</td>\n      <td>(-8416002.937554501, 5232856.240408601)</td>\n      <td>-8.416003e+06</td>\n      <td>5.232856e+06</td>\n    </tr>\n    <tr>\n      <th>12</th>\n      <td>Delaware, NY</td>\n      <td>11</td>\n      <td>488</td>\n      <td>215</td>\n      <td>39954</td>\n      <td>5.116279</td>\n      <td>(41.76803207397461, -75.05734252929688)</td>\n      <td>42.193987</td>\n      <td>-74.966728</td>\n      <td>(42.1939865, -74.9667281)</td>\n      <td>(-8345257.998529794, 5190082.118944368)</td>\n      <td>-8.345258e+06</td>\n      <td>5.190082e+06</td>\n    </tr>\n    <tr>\n      <th>35</th>\n      <td>Orange, NY</td>\n      <td>223</td>\n      <td>19146</td>\n      <td>2725</td>\n      <td>327078</td>\n      <td>8.183486</td>\n      <td>(42.305580139160156, -77.04928588867188)</td>\n      <td>41.402410</td>\n      <td>-74.306252</td>\n      <td>(41.4024096, -74.3062522)</td>\n      <td>(-8271734.157660564, 5071879.412357982)</td>\n      <td>-8.271734e+06</td>\n      <td>5.071879e+06</td>\n    </tr>\n    <tr>\n      <th>38</th>\n      <td>Otsego, NY</td>\n      <td>19</td>\n      <td>840</td>\n      <td>540</td>\n      <td>54143</td>\n      <td>3.518519</td>\n      <td>(42.70102310180664, -74.92680358886719)</td>\n      <td>42.629776</td>\n      <td>-75.028841</td>\n      <td>(42.6297762, -75.028841)</td>\n      <td>(-8352172.374929487, 5255788.717128242)</td>\n      <td>-8.352172e+06</td>\n      <td>5.255789e+06</td>\n    </tr>\n    <tr>\n      <th>43</th>\n      <td>Rockland, NY</td>\n      <td>175</td>\n      <td>23680</td>\n      <td>2874</td>\n      <td>370457</td>\n      <td>6.089074</td>\n      <td>(41.94535827636719, -74.9128189086914)</td>\n      <td>41.154628</td>\n      <td>-74.024662</td>\n      <td>(41.1546276, -74.02466159999999)</td>\n      <td>(-8240387.63545639, 5035176.022435297)</td>\n      <td>-8.240388e+06</td>\n      <td>5.035176e+06</td>\n    </tr>\n    <tr>\n      <th>52</th>\n      <td>Sullivan, NY</td>\n      <td>31</td>\n      <td>2407</td>\n      <td>487</td>\n      <td>54125</td>\n      <td>6.365503</td>\n      <td>(43.054195404052734, -75.84769439697266)</td>\n      <td>41.719993</td>\n      <td>-74.771577</td>\n      <td>(41.71999279999999, -74.77157690000001)</td>\n      <td>(-8323533.866318097, 5119127.570423786)</td>\n      <td>-8.323534e+06</td>\n      <td>5.119128e+06</td>\n    </tr>\n    <tr>\n      <th>55</th>\n      <td>Ulster, NY</td>\n      <td>73</td>\n      <td>4176</td>\n      <td>1792</td>\n      <td>175550</td>\n      <td>4.073661</td>\n      <td>(41.956634521484375, -73.96853637695312)</td>\n      <td>41.947212</td>\n      <td>-74.265458</td>\n      <td>(41.9472124, -74.26545820000001)</td>\n      <td>(-8267192.990353145, 5153075.3944386905)</td>\n      <td>-8.267193e+06</td>\n      <td>5.153075e+06</td>\n    </tr>\n    <tr>\n      <th>59</th>\n      <td>Westchester, NY</td>\n      <td>611</td>\n      <td>57606</td>\n      <td>10385</td>\n      <td>1218615</td>\n      <td>5.883486</td>\n      <td>(40.840030670166016, -73.84453582763672)</td>\n      <td>41.152686</td>\n      <td>-73.745753</td>\n      <td>(41.152686200000005, -73.74575259999999)</td>\n      <td>(-8209339.627598729, 5034888.996211602)</td>\n      <td>-8.209340e+06</td>\n      <td>5.034889e+06</td>\n    </tr>\n  </tbody>\n</table>\n</div>"
     },
     "metadata": {},
     "execution_count": 65
    }
   ],
   "source": [
    "# Create mercator column in our df\n",
    "df['mercator'] = mercators\n",
    "\n",
    "# Split that column out into two separate cols - mercator_x and mercator_y\n",
    "df[['mercator_x', 'mercator_y']] = df['mercator'].apply(pd.Series)\n",
    "\n",
    "# Drop 'geometry' column \n",
    "df = df.drop(columns=['geometry'])\n",
    "\n",
    "# Examine our modified DataFrame\n",
    "df.head(20)\n"
   ]
  },
  {
   "cell_type": "markdown",
   "metadata": {},
   "source": [
    "### 2. Create Visualisation with Bokeh\n",
    "\n",
    "##### 2.1 - Create Visualisation\n",
    "\n",
    "The steps are described with comments below. Full explanations of each step can be found in the [associated article](https://towardsdatascience.com/creating-an-interactive-map-in-python-using-bokeh-and-pandas-f84414536a06).\n",
    "\n",
    "This creates a [.html file](./output/avocado.html) which we can embed in dashboards or on [web pages](https://www.craigdoesdata.de/blog/avocadobokeh.html) as we please. The use of the 'show' function at the end also allows the visualisation to be displayed within our notebook."
   ]
  },
  {
   "cell_type": "code",
   "execution_count": 67,
   "metadata": {},
   "outputs": [
    {
     "output_type": "display_data",
     "data": {
      "text/html": "\n    <div class=\"bk-root\">\n        <a href=\"https://bokeh.org\" target=\"_blank\" class=\"bk-logo bk-logo-small bk-logo-notebook\"></a>\n        <span id=\"9450\">Loading BokehJS ...</span>\n    </div>"
     },
     "metadata": {}
    },
    {
     "output_type": "display_data",
     "data": {
      "application/javascript": "\n(function(root) {\n  function now() {\n    return new Date();\n  }\n\n  var force = true;\n\n  if (typeof root._bokeh_onload_callbacks === \"undefined\" || force === true) {\n    root._bokeh_onload_callbacks = [];\n    root._bokeh_is_loading = undefined;\n  }\n\n  var JS_MIME_TYPE = 'application/javascript';\n  var HTML_MIME_TYPE = 'text/html';\n  var EXEC_MIME_TYPE = 'application/vnd.bokehjs_exec.v0+json';\n  var CLASS_NAME = 'output_bokeh rendered_html';\n\n  /**\n   * Render data to the DOM node\n   */\n  function render(props, node) {\n    var script = document.createElement(\"script\");\n    node.appendChild(script);\n  }\n\n  /**\n   * Handle when an output is cleared or removed\n   */\n  function handleClearOutput(event, handle) {\n    var cell = handle.cell;\n\n    var id = cell.output_area._bokeh_element_id;\n    var server_id = cell.output_area._bokeh_server_id;\n    // Clean up Bokeh references\n    if (id != null && id in Bokeh.index) {\n      Bokeh.index[id].model.document.clear();\n      delete Bokeh.index[id];\n    }\n\n    if (server_id !== undefined) {\n      // Clean up Bokeh references\n      var cmd = \"from bokeh.io.state import curstate; print(curstate().uuid_to_server['\" + server_id + \"'].get_sessions()[0].document.roots[0]._id)\";\n      cell.notebook.kernel.execute(cmd, {\n        iopub: {\n          output: function(msg) {\n            var id = msg.content.text.trim();\n            if (id in Bokeh.index) {\n              Bokeh.index[id].model.document.clear();\n              delete Bokeh.index[id];\n            }\n          }\n        }\n      });\n      // Destroy server and session\n      var cmd = \"import bokeh.io.notebook as ion; ion.destroy_server('\" + server_id + \"')\";\n      cell.notebook.kernel.execute(cmd);\n    }\n  }\n\n  /**\n   * Handle when a new output is added\n   */\n  function handleAddOutput(event, handle) {\n    var output_area = handle.output_area;\n    var output = handle.output;\n\n    // limit handleAddOutput to display_data with EXEC_MIME_TYPE content only\n    if ((output.output_type != \"display_data\") || (!output.data.hasOwnProperty(EXEC_MIME_TYPE))) {\n      return\n    }\n\n    var toinsert = output_area.element.find(\".\" + CLASS_NAME.split(' ')[0]);\n\n    if (output.metadata[EXEC_MIME_TYPE][\"id\"] !== undefined) {\n      toinsert[toinsert.length - 1].firstChild.textContent = output.data[JS_MIME_TYPE];\n      // store reference to embed id on output_area\n      output_area._bokeh_element_id = output.metadata[EXEC_MIME_TYPE][\"id\"];\n    }\n    if (output.metadata[EXEC_MIME_TYPE][\"server_id\"] !== undefined) {\n      var bk_div = document.createElement(\"div\");\n      bk_div.innerHTML = output.data[HTML_MIME_TYPE];\n      var script_attrs = bk_div.children[0].attributes;\n      for (var i = 0; i < script_attrs.length; i++) {\n        toinsert[toinsert.length - 1].firstChild.setAttribute(script_attrs[i].name, script_attrs[i].value);\n        toinsert[toinsert.length - 1].firstChild.textContent = bk_div.children[0].textContent\n      }\n      // store reference to server id on output_area\n      output_area._bokeh_server_id = output.metadata[EXEC_MIME_TYPE][\"server_id\"];\n    }\n  }\n\n  function register_renderer(events, OutputArea) {\n\n    function append_mime(data, metadata, element) {\n      // create a DOM node to render to\n      var toinsert = this.create_output_subarea(\n        metadata,\n        CLASS_NAME,\n        EXEC_MIME_TYPE\n      );\n      this.keyboard_manager.register_events(toinsert);\n      // Render to node\n      var props = {data: data, metadata: metadata[EXEC_MIME_TYPE]};\n      render(props, toinsert[toinsert.length - 1]);\n      element.append(toinsert);\n      return toinsert\n    }\n\n    /* Handle when an output is cleared or removed */\n    events.on('clear_output.CodeCell', handleClearOutput);\n    events.on('delete.Cell', handleClearOutput);\n\n    /* Handle when a new output is added */\n    events.on('output_added.OutputArea', handleAddOutput);\n\n    /**\n     * Register the mime type and append_mime function with output_area\n     */\n    OutputArea.prototype.register_mime_type(EXEC_MIME_TYPE, append_mime, {\n      /* Is output safe? */\n      safe: true,\n      /* Index of renderer in `output_area.display_order` */\n      index: 0\n    });\n  }\n\n  // register the mime type if in Jupyter Notebook environment and previously unregistered\n  if (root.Jupyter !== undefined) {\n    var events = require('base/js/events');\n    var OutputArea = require('notebook/js/outputarea').OutputArea;\n\n    if (OutputArea.prototype.mime_types().indexOf(EXEC_MIME_TYPE) == -1) {\n      register_renderer(events, OutputArea);\n    }\n  }\n\n  \n  if (typeof (root._bokeh_timeout) === \"undefined\" || force === true) {\n    root._bokeh_timeout = Date.now() + 5000;\n    root._bokeh_failed_load = false;\n  }\n\n  var NB_LOAD_WARNING = {'data': {'text/html':\n     \"<div style='background-color: #fdd'>\\n\"+\n     \"<p>\\n\"+\n     \"BokehJS does not appear to have successfully loaded. If loading BokehJS from CDN, this \\n\"+\n     \"may be due to a slow or bad network connection. Possible fixes:\\n\"+\n     \"</p>\\n\"+\n     \"<ul>\\n\"+\n     \"<li>re-rerun `output_notebook()` to attempt to load from CDN again, or</li>\\n\"+\n     \"<li>use INLINE resources instead, as so:</li>\\n\"+\n     \"</ul>\\n\"+\n     \"<code>\\n\"+\n     \"from bokeh.resources import INLINE\\n\"+\n     \"output_notebook(resources=INLINE)\\n\"+\n     \"</code>\\n\"+\n     \"</div>\"}};\n\n  function display_loaded() {\n    var el = document.getElementById(\"9450\");\n    if (el != null) {\n      el.textContent = \"BokehJS is loading...\";\n    }\n    if (root.Bokeh !== undefined) {\n      if (el != null) {\n        el.textContent = \"BokehJS \" + root.Bokeh.version + \" successfully loaded.\";\n      }\n    } else if (Date.now() < root._bokeh_timeout) {\n      setTimeout(display_loaded, 100)\n    }\n  }\n\n\n  function run_callbacks() {\n    try {\n      root._bokeh_onload_callbacks.forEach(function(callback) {\n        if (callback != null)\n          callback();\n      });\n    } finally {\n      delete root._bokeh_onload_callbacks\n    }\n    console.debug(\"Bokeh: all callbacks have finished\");\n  }\n\n  function load_libs(css_urls, js_urls, callback) {\n    if (css_urls == null) css_urls = [];\n    if (js_urls == null) js_urls = [];\n\n    root._bokeh_onload_callbacks.push(callback);\n    if (root._bokeh_is_loading > 0) {\n      console.debug(\"Bokeh: BokehJS is being loaded, scheduling callback at\", now());\n      return null;\n    }\n    if (js_urls == null || js_urls.length === 0) {\n      run_callbacks();\n      return null;\n    }\n    console.debug(\"Bokeh: BokehJS not loaded, scheduling load and callback at\", now());\n    root._bokeh_is_loading = css_urls.length + js_urls.length;\n\n    function on_load() {\n      root._bokeh_is_loading--;\n      if (root._bokeh_is_loading === 0) {\n        console.debug(\"Bokeh: all BokehJS libraries/stylesheets loaded\");\n        run_callbacks()\n      }\n    }\n\n    function on_error() {\n      console.error(\"failed to load \" + url);\n    }\n\n    for (var i = 0; i < css_urls.length; i++) {\n      var url = css_urls[i];\n      const element = document.createElement(\"link\");\n      element.onload = on_load;\n      element.onerror = on_error;\n      element.rel = \"stylesheet\";\n      element.type = \"text/css\";\n      element.href = url;\n      console.debug(\"Bokeh: injecting link tag for BokehJS stylesheet: \", url);\n      document.body.appendChild(element);\n    }\n\n    const hashes = {\"https://cdn.bokeh.org/bokeh/release/bokeh-2.2.3.min.js\": \"T2yuo9Oe71Cz/I4X9Ac5+gpEa5a8PpJCDlqKYO0CfAuEszu1JrXLl8YugMqYe3sM\", \"https://cdn.bokeh.org/bokeh/release/bokeh-widgets-2.2.3.min.js\": \"98GDGJ0kOMCUMUePhksaQ/GYgB3+NH9h996V88sh3aOiUNX3N+fLXAtry6xctSZ6\", \"https://cdn.bokeh.org/bokeh/release/bokeh-tables-2.2.3.min.js\": \"89bArO+nlbP3sgakeHjCo1JYxYR5wufVgA3IbUvDY+K7w4zyxJqssu7wVnfeKCq8\"};\n\n    for (var i = 0; i < js_urls.length; i++) {\n      var url = js_urls[i];\n      var element = document.createElement('script');\n      element.onload = on_load;\n      element.onerror = on_error;\n      element.async = false;\n      element.src = url;\n      if (url in hashes) {\n        element.crossOrigin = \"anonymous\";\n        element.integrity = \"sha384-\" + hashes[url];\n      }\n      console.debug(\"Bokeh: injecting script tag for BokehJS library: \", url);\n      document.head.appendChild(element);\n    }\n  };\n\n  function inject_raw_css(css) {\n    const element = document.createElement(\"style\");\n    element.appendChild(document.createTextNode(css));\n    document.body.appendChild(element);\n  }\n\n  \n  var js_urls = [\"https://cdn.bokeh.org/bokeh/release/bokeh-2.2.3.min.js\", \"https://cdn.bokeh.org/bokeh/release/bokeh-widgets-2.2.3.min.js\", \"https://cdn.bokeh.org/bokeh/release/bokeh-tables-2.2.3.min.js\"];\n  var css_urls = [];\n  \n\n  var inline_js = [\n    function(Bokeh) {\n      Bokeh.set_log_level(\"info\");\n    },\n    function(Bokeh) {\n    \n    \n    }\n  ];\n\n  function run_inline_js() {\n    \n    if (root.Bokeh !== undefined || force === true) {\n      \n    for (var i = 0; i < inline_js.length; i++) {\n      inline_js[i].call(root, root.Bokeh);\n    }\n    if (force === true) {\n        display_loaded();\n      }} else if (Date.now() < root._bokeh_timeout) {\n      setTimeout(run_inline_js, 100);\n    } else if (!root._bokeh_failed_load) {\n      console.log(\"Bokeh: BokehJS failed to load within specified timeout.\");\n      root._bokeh_failed_load = true;\n    } else if (force !== true) {\n      var cell = $(document.getElementById(\"9450\")).parents('.cell').data().cell;\n      cell.output_area.append_execute_result(NB_LOAD_WARNING)\n    }\n\n  }\n\n  if (root._bokeh_is_loading === 0) {\n    console.debug(\"Bokeh: BokehJS loaded, going straight to plotting\");\n    run_inline_js();\n  } else {\n    load_libs(css_urls, js_urls, function() {\n      console.debug(\"Bokeh: BokehJS plotting callback run at\", now());\n      run_inline_js();\n    });\n  }\n}(window));",
      "application/vnd.bokehjs_load.v0+json": "\n(function(root) {\n  function now() {\n    return new Date();\n  }\n\n  var force = true;\n\n  if (typeof root._bokeh_onload_callbacks === \"undefined\" || force === true) {\n    root._bokeh_onload_callbacks = [];\n    root._bokeh_is_loading = undefined;\n  }\n\n  \n\n  \n  if (typeof (root._bokeh_timeout) === \"undefined\" || force === true) {\n    root._bokeh_timeout = Date.now() + 5000;\n    root._bokeh_failed_load = false;\n  }\n\n  var NB_LOAD_WARNING = {'data': {'text/html':\n     \"<div style='background-color: #fdd'>\\n\"+\n     \"<p>\\n\"+\n     \"BokehJS does not appear to have successfully loaded. If loading BokehJS from CDN, this \\n\"+\n     \"may be due to a slow or bad network connection. Possible fixes:\\n\"+\n     \"</p>\\n\"+\n     \"<ul>\\n\"+\n     \"<li>re-rerun `output_notebook()` to attempt to load from CDN again, or</li>\\n\"+\n     \"<li>use INLINE resources instead, as so:</li>\\n\"+\n     \"</ul>\\n\"+\n     \"<code>\\n\"+\n     \"from bokeh.resources import INLINE\\n\"+\n     \"output_notebook(resources=INLINE)\\n\"+\n     \"</code>\\n\"+\n     \"</div>\"}};\n\n  function display_loaded() {\n    var el = document.getElementById(\"9450\");\n    if (el != null) {\n      el.textContent = \"BokehJS is loading...\";\n    }\n    if (root.Bokeh !== undefined) {\n      if (el != null) {\n        el.textContent = \"BokehJS \" + root.Bokeh.version + \" successfully loaded.\";\n      }\n    } else if (Date.now() < root._bokeh_timeout) {\n      setTimeout(display_loaded, 100)\n    }\n  }\n\n\n  function run_callbacks() {\n    try {\n      root._bokeh_onload_callbacks.forEach(function(callback) {\n        if (callback != null)\n          callback();\n      });\n    } finally {\n      delete root._bokeh_onload_callbacks\n    }\n    console.debug(\"Bokeh: all callbacks have finished\");\n  }\n\n  function load_libs(css_urls, js_urls, callback) {\n    if (css_urls == null) css_urls = [];\n    if (js_urls == null) js_urls = [];\n\n    root._bokeh_onload_callbacks.push(callback);\n    if (root._bokeh_is_loading > 0) {\n      console.debug(\"Bokeh: BokehJS is being loaded, scheduling callback at\", now());\n      return null;\n    }\n    if (js_urls == null || js_urls.length === 0) {\n      run_callbacks();\n      return null;\n    }\n    console.debug(\"Bokeh: BokehJS not loaded, scheduling load and callback at\", now());\n    root._bokeh_is_loading = css_urls.length + js_urls.length;\n\n    function on_load() {\n      root._bokeh_is_loading--;\n      if (root._bokeh_is_loading === 0) {\n        console.debug(\"Bokeh: all BokehJS libraries/stylesheets loaded\");\n        run_callbacks()\n      }\n    }\n\n    function on_error() {\n      console.error(\"failed to load \" + url);\n    }\n\n    for (var i = 0; i < css_urls.length; i++) {\n      var url = css_urls[i];\n      const element = document.createElement(\"link\");\n      element.onload = on_load;\n      element.onerror = on_error;\n      element.rel = \"stylesheet\";\n      element.type = \"text/css\";\n      element.href = url;\n      console.debug(\"Bokeh: injecting link tag for BokehJS stylesheet: \", url);\n      document.body.appendChild(element);\n    }\n\n    const hashes = {\"https://cdn.bokeh.org/bokeh/release/bokeh-2.2.3.min.js\": \"T2yuo9Oe71Cz/I4X9Ac5+gpEa5a8PpJCDlqKYO0CfAuEszu1JrXLl8YugMqYe3sM\", \"https://cdn.bokeh.org/bokeh/release/bokeh-widgets-2.2.3.min.js\": \"98GDGJ0kOMCUMUePhksaQ/GYgB3+NH9h996V88sh3aOiUNX3N+fLXAtry6xctSZ6\", \"https://cdn.bokeh.org/bokeh/release/bokeh-tables-2.2.3.min.js\": \"89bArO+nlbP3sgakeHjCo1JYxYR5wufVgA3IbUvDY+K7w4zyxJqssu7wVnfeKCq8\"};\n\n    for (var i = 0; i < js_urls.length; i++) {\n      var url = js_urls[i];\n      var element = document.createElement('script');\n      element.onload = on_load;\n      element.onerror = on_error;\n      element.async = false;\n      element.src = url;\n      if (url in hashes) {\n        element.crossOrigin = \"anonymous\";\n        element.integrity = \"sha384-\" + hashes[url];\n      }\n      console.debug(\"Bokeh: injecting script tag for BokehJS library: \", url);\n      document.head.appendChild(element);\n    }\n  };\n\n  function inject_raw_css(css) {\n    const element = document.createElement(\"style\");\n    element.appendChild(document.createTextNode(css));\n    document.body.appendChild(element);\n  }\n\n  \n  var js_urls = [\"https://cdn.bokeh.org/bokeh/release/bokeh-2.2.3.min.js\", \"https://cdn.bokeh.org/bokeh/release/bokeh-widgets-2.2.3.min.js\", \"https://cdn.bokeh.org/bokeh/release/bokeh-tables-2.2.3.min.js\"];\n  var css_urls = [];\n  \n\n  var inline_js = [\n    function(Bokeh) {\n      Bokeh.set_log_level(\"info\");\n    },\n    function(Bokeh) {\n    \n    \n    }\n  ];\n\n  function run_inline_js() {\n    \n    if (root.Bokeh !== undefined || force === true) {\n      \n    for (var i = 0; i < inline_js.length; i++) {\n      inline_js[i].call(root, root.Bokeh);\n    }\n    if (force === true) {\n        display_loaded();\n      }} else if (Date.now() < root._bokeh_timeout) {\n      setTimeout(run_inline_js, 100);\n    } else if (!root._bokeh_failed_load) {\n      console.log(\"Bokeh: BokehJS failed to load within specified timeout.\");\n      root._bokeh_failed_load = true;\n    } else if (force !== true) {\n      var cell = $(document.getElementById(\"9450\")).parents('.cell').data().cell;\n      cell.output_area.append_execute_result(NB_LOAD_WARNING)\n    }\n\n  }\n\n  if (root._bokeh_is_loading === 0) {\n    console.debug(\"Bokeh: BokehJS loaded, going straight to plotting\");\n    run_inline_js();\n  } else {\n    load_libs(css_urls, js_urls, function() {\n      console.debug(\"Bokeh: BokehJS plotting callback run at\", now());\n      run_inline_js();\n    });\n  }\n}(window));"
     },
     "metadata": {}
    },
    {
     "output_type": "display_data",
     "data": {
      "text/html": "\n\n\n\n\n\n  <div class=\"bk-root\" id=\"0dc140ae-0feb-4d8f-98c1-d9d07e93835a\" data-root-id=\"9397\"></div>\n"
     },
     "metadata": {}
    },
    {
     "output_type": "display_data",
     "data": {
      "application/javascript": "(function(root) {\n  function embed_document(root) {\n    \n  var docs_json = {\"c94c5edd-87da-4afb-a7d2-1b32014d0664\":{\"roots\":{\"references\":[{\"attributes\":{\"below\":[{\"id\":\"9408\"}],\"center\":[{\"id\":\"9415\"},{\"id\":\"9423\"}],\"left\":[{\"id\":\"9416\"}],\"plot_height\":800,\"plot_width\":1400,\"renderers\":[{\"id\":\"9440\"},{\"id\":\"9445\"}],\"right\":[{\"id\":\"9448\"}],\"title\":{\"id\":\"9398\"},\"toolbar\":{\"id\":\"9432\"},\"x_range\":{\"id\":\"9400\"},\"x_scale\":{\"id\":\"9404\"},\"y_range\":{\"id\":\"9402\"},\"y_scale\":{\"id\":\"9406\"}},\"id\":\"9397\",\"subtype\":\"Figure\",\"type\":\"Plot\"},{\"attributes\":{\"callback\":null,\"tooltips\":[[\"County\",\"@County\"],[\"% Positive\",\"@Positive\"]]},\"id\":\"9431\",\"type\":\"HoverTool\"},{\"attributes\":{\"dimension\":\"lat\"},\"id\":\"9419\",\"type\":\"MercatorTickFormatter\"},{\"attributes\":{\"axis\":{\"id\":\"9416\"},\"dimension\":1,\"ticker\":null},\"id\":\"9423\",\"type\":\"Grid\"},{\"attributes\":{},\"id\":\"9429\",\"type\":\"HelpTool\"},{\"attributes\":{},\"id\":\"9425\",\"type\":\"WheelZoomTool\"},{\"attributes\":{},\"id\":\"9424\",\"type\":\"PanTool\"},{\"attributes\":{\"active_drag\":\"auto\",\"active_inspect\":\"auto\",\"active_multi\":null,\"active_scroll\":\"auto\",\"active_tap\":\"auto\",\"tools\":[{\"id\":\"9424\"},{\"id\":\"9425\"},{\"id\":\"9426\"},{\"id\":\"9427\"},{\"id\":\"9428\"},{\"id\":\"9429\"},{\"id\":\"9431\"}]},\"id\":\"9432\",\"type\":\"Toolbar\"},{\"attributes\":{\"overlay\":{\"id\":\"9430\"}},\"id\":\"9426\",\"type\":\"BoxZoomTool\"},{\"attributes\":{},\"id\":\"9427\",\"type\":\"SaveTool\"},{\"attributes\":{},\"id\":\"9428\",\"type\":\"ResetTool\"},{\"attributes\":{\"data_source\":{\"id\":\"9395\"},\"glyph\":{\"id\":\"9443\"},\"hover_glyph\":null,\"muted_glyph\":null,\"nonselection_glyph\":{\"id\":\"9444\"},\"selection_glyph\":null,\"view\":{\"id\":\"9446\"}},\"id\":\"9445\",\"type\":\"GlyphRenderer\"},{\"attributes\":{\"fill_alpha\":{\"value\":0.1},\"fill_color\":{\"field\":\"Positive\",\"transform\":{\"id\":\"9396\"}},\"line_alpha\":{\"value\":0.1},\"line_color\":{\"field\":\"Positive\",\"transform\":{\"id\":\"9396\"}},\"size\":{\"units\":\"screen\",\"value\":40},\"x\":{\"field\":\"mercator_x\"},\"y\":{\"field\":\"mercator_y\"}},\"id\":\"9444\",\"type\":\"Circle\"},{\"attributes\":{},\"id\":\"9691\",\"type\":\"Selection\"},{\"attributes\":{\"format\":\"0.0[0000]\"},\"id\":\"9447\",\"type\":\"NumeralTickFormatter\"},{\"attributes\":{\"attribution\":\"&copy; <a href=\\\"https://www.openstreetmap.org/copyright\\\">OpenStreetMap</a> contributors,&copy; <a href=\\\"https://cartodb.com/attributions\\\">CartoDB</a>\",\"url\":\"https://tiles.basemaps.cartocdn.com/light_all/{z}/{x}/{y}@2x.png\"},\"id\":\"9394\",\"type\":\"WMTSTileSource\"},{\"attributes\":{\"color_mapper\":{\"id\":\"9396\"},\"formatter\":{\"id\":\"9447\"},\"label_standoff\":13,\"location\":[0,0],\"ticker\":{\"id\":\"9690\"},\"width\":8},\"id\":\"9448\",\"type\":\"ColorBar\"},{\"attributes\":{},\"id\":\"9692\",\"type\":\"UnionRenderers\"},{\"attributes\":{\"source\":{\"id\":\"9395\"}},\"id\":\"9446\",\"type\":\"CDSView\"},{\"attributes\":{\"data\":{\"All Positives\":[6306,815,488,19146,840,23680,2407,4176,57606],\"All Tests\":[243869,49176,39954,327078,54143,370457,54125,175550,1218615],\"County\":[\"Broome, NY\",\"Chenango, NY\",\"Delaware, NY\",\"Orange, NY\",\"Otsego, NY\",\"Rockland, NY\",\"Sullivan, NY\",\"Ulster, NY\",\"Westchester, NY\"],\"New Positives\":[68,34,11,223,19,175,31,73,611],\"New Tests\":[2076,339,215,2725,540,2874,487,1792,10385],\"Positive\":{\"__ndarray__\":\"CUZ+AEk0CkCM8UBuGg8kQBxxR9wRdxRA34WD6PFdIEBiQnsJ7SUMQNsm3lU2WxhABil+cEZ2GUCybdu2bUsQQG1UL4CwiBdA\",\"dtype\":\"float64\",\"order\":\"little\",\"shape\":[9]},\"co-ordinates\":[\"(42.52092361450195, -74.30384826660156)\",\"(42.1686897277832, -75.87785339355469)\",\"(41.76803207397461, -75.05734252929688)\",\"(42.305580139160156, -77.04928588867188)\",\"(42.70102310180664, -74.92680358886719)\",\"(41.94535827636719, -74.9128189086914)\",\"(43.054195404052734, -75.84769439697266)\",\"(41.956634521484375, -73.96853637695312)\",\"(40.840030670166016, -73.84453582763672)\"],\"coordinates\":[[42.1619773,-75.8302833],[42.478023799999995,-75.6022407],[42.1939865,-74.9667281],[41.4024096,-74.3062522],[42.6297762,-75.028841],[41.1546276,-74.02466159999999],[41.71999279999999,-74.77157690000001],[41.9472124,-74.26545820000001],[41.152686200000005,-73.74575259999999]],\"index\":[3,8,12,35,38,43,52,55,59],\"latitude\":{\"__ndarray__\":\"4RgTrLsURUDV2kXiLz1FQMmutIzUGEVAWMxjKIKzREBLZquBnFBFQIyHUtbKk0RAf61cuSjcREDOLoRBPvlEQHjGrTiLk0RA\",\"dtype\":\"float64\",\"order\":\"little\",\"shape\":[9]},\"longitude\":{\"__ndarray__\":\"j/qQXCP1UsB9tJMci+ZSwPNnid/evVLA/9TTopmTUsAs8uuH2MFSwONdPw6UgVLAWPYThGGxUsAg3WNE/ZBSwAv6HGm6b1LA\",\"dtype\":\"float64\",\"order\":\"little\",\"shape\":[9]},\"mercator\":[[-8441388.523665678,5185273.823934164],[-8416002.937554501,5232856.240408601],[-8345257.998529794,5190082.118944368],[-8271734.157660564,5071879.412357982],[-8352172.374929487,5255788.717128242],[-8240387.63545639,5035176.022435297],[-8323533.866318097,5119127.570423786],[-8267192.990353145,5153075.3944386905],[-8209339.627598729,5034888.996211602]],\"mercator_x\":{\"__ndarray__\":\"ht7BkMUZYMFMcgBeYA1gwYLp53+q1V/BVhwXit2NX8E/2P4Xa9xfwUdRq+hAb1/BdsFxd3PAX8Eo8mE/bolfwdyTKujuUF/B\",\"dtype\":\"float64\",\"order\":\"little\",\"shape\":[9]},\"mercator_y\":{\"__ndarray__\":\"XFa7dL7HU0HC2mIPNvZTQdfInIdwzFNBvBJk2gFZU0HbbeUtmwxUQXWUbwEqNVNBxNKB5CWHU0HHez7ZTKhTQU/uwT/iNFNB\",\"dtype\":\"float64\",\"order\":\"little\",\"shape\":[9]}},\"selected\":{\"id\":\"9691\"},\"selection_policy\":{\"id\":\"9692\"}},\"id\":\"9395\",\"type\":\"ColumnDataSource\"},{\"attributes\":{},\"id\":\"9404\",\"type\":\"LinearScale\"},{\"attributes\":{\"end\":-7631472.904,\"start\":-9724292.1646},\"id\":\"9400\",\"type\":\"Range1d\"},{\"attributes\":{\"axis\":{\"id\":\"9408\"},\"ticker\":null},\"id\":\"9415\",\"type\":\"Grid\"},{\"attributes\":{\"bottom_units\":\"screen\",\"fill_alpha\":0.5,\"fill_color\":\"lightgrey\",\"left_units\":\"screen\",\"level\":\"overlay\",\"line_alpha\":1.0,\"line_color\":\"black\",\"line_dash\":[4,4],\"line_width\":2,\"right_units\":\"screen\",\"top_units\":\"screen\"},\"id\":\"9430\",\"type\":\"BoxAnnotation\"},{\"attributes\":{\"tile_source\":{\"id\":\"9394\"}},\"id\":\"9440\",\"type\":\"TileRenderer\"},{\"attributes\":{\"fill_alpha\":{\"value\":0.8},\"fill_color\":{\"field\":\"Positive\",\"transform\":{\"id\":\"9396\"}},\"line_color\":{\"field\":\"Positive\",\"transform\":{\"id\":\"9396\"}},\"size\":{\"units\":\"screen\",\"value\":40},\"x\":{\"field\":\"mercator_x\"},\"y\":{\"field\":\"mercator_y\"}},\"id\":\"9443\",\"type\":\"Circle\"},{\"attributes\":{\"axis_label\":\"Longitude\",\"formatter\":{\"id\":\"9411\"},\"ticker\":{\"id\":\"9409\"}},\"id\":\"9408\",\"type\":\"MercatorAxis\"},{\"attributes\":{\"high\":10.029498525073699,\"low\":3.27552986512524,\"palette\":[\"#FFCCBB\",\"#FF6C5C\",\"#F85C4D\",\"#E84C3D\",\"#D83C2D\",\"#BF0000\"]},\"id\":\"9396\",\"type\":\"LinearColorMapper\"},{\"attributes\":{\"dimension\":\"lon\"},\"id\":\"9409\",\"type\":\"MercatorTicker\"},{\"attributes\":{\"end\":5873228.2947,\"start\":4869151.4912},\"id\":\"9402\",\"type\":\"Range1d\"},{\"attributes\":{\"dimension\":\"lat\"},\"id\":\"9417\",\"type\":\"MercatorTicker\"},{\"attributes\":{\"text\":\"COVID % Posivity Rates - Sullivan County Area\"},\"id\":\"9398\",\"type\":\"Title\"},{\"attributes\":{},\"id\":\"9406\",\"type\":\"LinearScale\"},{\"attributes\":{},\"id\":\"9690\",\"type\":\"BasicTicker\"},{\"attributes\":{\"dimension\":\"lon\"},\"id\":\"9411\",\"type\":\"MercatorTickFormatter\"},{\"attributes\":{\"axis_label\":\"Latitude\",\"formatter\":{\"id\":\"9419\"},\"ticker\":{\"id\":\"9417\"}},\"id\":\"9416\",\"type\":\"MercatorAxis\"}],\"root_ids\":[\"9397\"]},\"title\":\"Bokeh Application\",\"version\":\"2.2.3\"}};\n  var render_items = [{\"docid\":\"c94c5edd-87da-4afb-a7d2-1b32014d0664\",\"root_ids\":[\"9397\"],\"roots\":{\"9397\":\"0dc140ae-0feb-4d8f-98c1-d9d07e93835a\"}}];\n  root.Bokeh.embed.embed_items_notebook(docs_json, render_items);\n\n  }\n  if (root.Bokeh !== undefined) {\n    embed_document(root);\n  } else {\n    var attempts = 0;\n    var timer = setInterval(function(root) {\n      if (root.Bokeh !== undefined) {\n        clearInterval(timer);\n        embed_document(root);\n      } else {\n        attempts++;\n        if (attempts > 100) {\n          clearInterval(timer);\n          console.log(\"Bokeh: ERROR: Unable to run BokehJS code because BokehJS library is missing\");\n        }\n      }\n    }, 10, root)\n  }\n})(window);",
      "application/vnd.bokehjs_exec.v0+json": ""
     },
     "metadata": {
      "application/vnd.bokehjs_exec.v0+json": {
       "id": "9397"
      }
     }
    }
   ],
   "source": [
    "# Create map with Bokeh\n",
    "\n",
    "# Select tile set to use\n",
    "chosentile = get_provider(Vendors.CARTODBPOSITRON_RETINA)\n",
    "\n",
    "myReds = ['#FFCCBB', '#FF6C5C', '#F85C4D', '#E84C3D', '#D83C2D', '#BF0000']\n",
    "\n",
    "# Choose palette\n",
    "palette = myReds\n",
    "\n",
    "# Reds[3].reverse()\n",
    "\n",
    "# Tell Bokeh to use df as the source of the data\n",
    "source = ColumnDataSource(data=df)\n",
    "\n",
    "# Define color mapper - which column will define the colour of the data points\n",
    "color_mapper = linear_cmap(field_name = 'Positive', palette = palette, low = df['Positive'].min(), high = df['Positive'].max())\n",
    "\n",
    "# Set tooltips - these appear when we hover over a data point in our map, very nifty and very useful\n",
    "nan_color = '#d9d9d9'\n",
    "tooltips = [(\"County\",\"@County\"),(\"% Positive\",\"@Positive\")]\n",
    "\n",
    "\n",
    "# Create figure\n",
    "p = figure(title = 'COVID % Posivity Rates - Sullivan County Area', x_axis_type=\"mercator\", y_axis_type=\"mercator\", \n",
    "           x_axis_label = 'Longitude', y_axis_label = 'Latitude', tooltips = tooltips, plot_width=1400, plot_height=800,\n",
    "           x_range=(-9724292.1646, -7631472.9040), y_range=(4869151.4912, 5873228.2947))\n",
    "           \n",
    "\n",
    "# Add map tile\n",
    "p.add_tile(chosentile)\n",
    "\n",
    "\n",
    "# Add points using mercator coordinates\n",
    "p.circle(x = 'mercator_x', y = 'mercator_y', color = color_mapper, source=source, size=40, fill_alpha = 0.8)\n",
    "\n",
    "#Defines color bar\n",
    "color_bar = ColorBar(color_mapper=color_mapper['transform'], \n",
    "                     formatter = NumeralTickFormatter(format='0.0[0000]'), \n",
    "                     label_standoff = 13, width=8, location=(0,0))\n",
    "\n",
    "# Set color_bar location\n",
    "p.add_layout(color_bar, 'right')\n",
    "\n",
    "# Display in notebook\n",
    "output_notebook()\n",
    "\n",
    "# Save as HTML\n",
    "output_file('SulCOVID.html', title='COVID % Posivity Rates - Sullivan County Area')\n",
    "\n",
    "# Show map\n",
    "show(p)"
   ]
  }
 ],
 "metadata": {
  "kernelspec": {
   "display_name": "Python 3",
   "language": "python",
   "name": "python3"
  },
  "language_info": {
   "codemirror_mode": {
    "name": "ipython",
    "version": 3
   },
   "file_extension": ".py",
   "mimetype": "text/x-python",
   "name": "python",
   "nbconvert_exporter": "python",
   "pygments_lexer": "ipython3",
   "version": "3.8.5-final"
  }
 },
 "nbformat": 4,
 "nbformat_minor": 2
}